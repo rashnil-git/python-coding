{
 "cells": [
  {
   "cell_type": "markdown",
   "metadata": {},
   "source": [
    "# SQL Part 1 (sqlite3)\n",
    "\n",
    "You __must__ run the cells in order. It looks like you can come back later after restarting and pick up where you left off but that is not the case. When restarting you always have to start at the top of the notebook and run each cell in turn. "
   ]
  },
  {
   "cell_type": "code",
   "execution_count": 2,
   "metadata": {
    "collapsed": true
   },
   "outputs": [],
   "source": [
    "# fill in the information below\n",
    "Author = 'rashnil'\n",
    "Collaborators = ['rashnil']"
   ]
  },
  {
   "cell_type": "code",
   "execution_count": 3,
   "metadata": {
    "collapsed": true
   },
   "outputs": [],
   "source": [
    "# checker setup do NOT change this\n",
    "import comp521\n",
    "check, report = comp521.start('A1')"
   ]
  },
  {
   "cell_type": "code",
   "execution_count": 5,
   "metadata": {
    "collapsed": true
   },
   "outputs": [],
   "source": [
    "# setup, no need to change this\n",
    "from Dee import *\n",
    "from DeeDatabase import Database\n",
    "from CourseEnrollmentDee import DeeDB\n",
    "import sqlite3\n",
    "\n",
    "# I'll open a DB in memory\n",
    "conn = sqlite3.connect(\":memory:\")\n",
    "cursor = conn.cursor()"
   ]
  },
  {
   "cell_type": "markdown",
   "metadata": {},
   "source": [
    "## Question 1\n",
    "Use SQL to create tables for the following database schema modeling a library.\n",
    "\n",
    "STUDENT __sid__(INTEGER) sname(TEXT)  \n",
    "BOOK __bid__(INTEGER) bname(TEXT) author(TEXT)  \n",
    "BORROWS __id__(INTEGER) sid(INTEGER) bid(INTEGER) date(TEXT)  \n",
    "\n",
    "All primary keys are bold. In the BORROWS table, __bid__ is a foreign key referencing BOOK and __sid__ is a foreign key referencing STUDENT.\n",
    "\n",
    "__Make sure__ you use the *exact* names and data types for the tables and attributes in order to pass the automatic test."
   ]
  },
  {
   "cell_type": "code",
   "execution_count": 10,
   "metadata": {
    "collapsed": false
   },
   "outputs": [
    {
     "name": "stdout",
     "output_type": "stream",
     "text": [
      "Q1a appears correct\n"
     ]
    }
   ],
   "source": [
    "# I'll clean up for you so you don't get tripped up by trying more than once. Leave this alone\n",
    "cursor.execute('DROP TABLE IF EXISTS \"STUDENT\"')\n",
    "cursor.execute('DROP TABLE IF EXISTS \"BOOK\"')\n",
    "cursor.execute('DROP TABLE IF EXISTS \"BORROWS\"')\n",
    "\n",
    "# insert your code to create the table here using cursor to create the tables.\n",
    "\n",
    "cursor.execute(\"\"\"CREATE TABLE STUDENT(sid integer primary key,sname text)\"\"\")\n",
    "cursor.execute(\"\"\"CREATE TABLE BOOK(bid integer primary key,bname text,author text)\"\"\")\n",
    "cursor.execute(\"\"\"CREATE TABLE BORROWS(id integer primary key,sid integer,bid integer,date text,foreign key (bid) references BOOK,foreign key (sid) references STUDENT)\"\"\")\n",
    "\n",
    "\n",
    "# leave this testing code alone\n",
    "c1 = cursor.execute(\"SELECT name from sqlite_master WHERE type='table' order by name asc\").fetchall()\n",
    "check('Q1a', c1, points=10)"
   ]
  },
  {
   "cell_type": "markdown",
   "metadata": {},
   "source": [
    "## Question 2\n",
    "Insert the following data into the tables you created above.\n",
    "\n",
    "<table>\n",
    "<caption>STUDENT</caption>\n",
    "<tr><th>sid</th><th>sname</th></tr>\n",
    "<tr><td>1</td><td>Alice</td></tr>\n",
    "<tr><td>2</td><td>Bob</td></tr>\n",
    "<tr><td>3</td><td>Cindy</td></tr>\n",
    "</table>\n",
    "\n",
    "<table>\n",
    "<caption>BOOK</caption>\n",
    "<tr><th>bid</th><th>bname</th><th>author</th></tr>\n",
    "<tr><td>1</td><td>Database Management Systems</td><td>Ramakrishnan</td></tr>\n",
    "<tr><td>2</td><td>Lord of the Rings</td><td>Tolkien</td></tr>\n",
    "</table>\n",
    "\n",
    "<table>\n",
    "<caption>BORROWS</caption>\n",
    "<tr><th>id</th><th>sid</th><th>bid</th><th>date</th></tr>\n",
    "<tr><td>1</td><td>2</td><td>1</td><td>8/3/2017</td></tr>\n",
    "<tr><td>2</td><td>3</td><td>2</td><td>9/1/2017</td></tr>\n",
    "</table>\n"
   ]
  },
  {
   "cell_type": "code",
   "execution_count": 11,
   "metadata": {
    "collapsed": false
   },
   "outputs": [
    {
     "name": "stdout",
     "output_type": "stream",
     "text": [
      "Q2a appears correct\n",
      "Q2b appears correct\n",
      "Q2c appears correct\n"
     ]
    }
   ],
   "source": [
    "# write your code here\n",
    "\n",
    "students = [(1, \"Alice\"),\n",
    "         (2, \"Bob\"),\n",
    "         (3, \"Cindy\")]\n",
    "for student in students:\n",
    "    cursor.execute(\"insert into STUDENT values (?, ?)\", student)\n",
    "\n",
    "\n",
    "books = [(1, \"Database Management Systems\",\"Ramakrishnan\"),\n",
    "         (2, \"Lord of the Rings\",\"Tolkien\")]\n",
    "for book in books:\n",
    "    cursor.execute(\"insert into BOOK values (?, ?, ?)\", book)  \n",
    "    \n",
    "borrows = [(1, 2, 1, \"8/3/2017\"),\n",
    "         (2, 3, 2, \"9/1/2017\")]\n",
    "for borrow in borrows:\n",
    "    cursor.execute(\"insert into BORROWS values (?, ?, ?, ?)\", borrow)  \n",
    "    \n",
    "\n",
    "# testing code\n",
    "c2a = cursor.execute('select * from STUDENT').fetchall()\n",
    "check('Q2a', c2a, points=5)\n",
    "c2b = cursor.execute('select * from BOOK').fetchall()\n",
    "check('Q2b', c2b, points=5)\n",
    "c2c = cursor.execute('select * from BORROWS').fetchall()\n",
    "check('Q2c', c2c, points=5)"
   ]
  },
  {
   "cell_type": "markdown",
   "metadata": {},
   "source": [
    "## Question 3\n",
    "Delete the record with id equal 1 from the BORROWS table."
   ]
  },
  {
   "cell_type": "code",
   "execution_count": 12,
   "metadata": {
    "collapsed": false
   },
   "outputs": [
    {
     "name": "stdout",
     "output_type": "stream",
     "text": [
      "Q3 appears correct\n"
     ]
    }
   ],
   "source": [
    "# write your code here\n",
    "\n",
    "cursor.execute(\"delete from BORROWS where id=1\")\n",
    "\n",
    "# don't touch this\n",
    "c3 = cursor.execute('''select * from BORROWS''').fetchall()\n",
    "check('Q3', c3, points=10)"
   ]
  },
  {
   "cell_type": "markdown",
   "metadata": {},
   "source": [
    "## Setup for questions 4-11\n",
    "Consider the following schema for a database modeling courses at UNC.\n",
    "```\n",
    "    DEPARTMENT (did, name)  \n",
    "    COURSE (cid, did, name, num, creditHours)  \n",
    "    STUDENT (sid, fname, lname, did)  \n",
    "    ENROLLED_IN (eid, sid, cid)  \n",
    "```\n",
    "    \n",
    "In the COURSE table, did is a foreign key referencing DEPARTMENT(did). In the ENROLLED_IN\n",
    "table, sid is a foreign key referencing STUDENT(sid), and cid is a foreign key referencing\n",
    "COURSE(cid). In STUDENT, did is a foreign key referencing DEPARTMENT(did).\n",
    "\n",
    "### Questions 4-7\n",
    "\n",
    "Use [Dee](http://www.quicksort.co.uk/DeeDoc.html) to write relational algebra queries for the following. In particular, you may find the\n",
    "following Dee operators most useful: Projection, Restriction (corresponds to select in\n",
    "relational algebra), Join, Intersection, Difference, Union.\n",
    "\n",
    "Your, already populated, Dee database is named DeeDB.\n"
   ]
  },
  {
   "cell_type": "markdown",
   "metadata": {},
   "source": [
    "## Question 4\n",
    "Find the names of all courses below the 500 level. You can get the Dee relation for COURSE with `DeeDB.COURSE`."
   ]
  },
  {
   "cell_type": "code",
   "execution_count": 20,
   "metadata": {
    "collapsed": false
   },
   "outputs": [
    {
     "name": "stdout",
     "output_type": "stream",
     "text": [
      "Q4 appears correct\n"
     ]
    }
   ],
   "source": [
    "# write code here used DeeDB and Dee methods.\n",
    "c4 = DeeDB.COURSE.where(lambda t: t.num < 500).project(['name'])\n",
    "\n",
    "\n",
    "# checking code\n",
    "check('Q4', c4, points=5)"
   ]
  },
  {
   "cell_type": "markdown",
   "metadata": {},
   "source": [
    "## Question 5\n",
    "Find the first and last names of all students enrolled in \"Files and Databases\"."
   ]
  },
  {
   "cell_type": "code",
   "execution_count": 67,
   "metadata": {
    "collapsed": false
   },
   "outputs": [
    {
     "name": "stdout",
     "output_type": "stream",
     "text": [
      "Q5 appears correct\n"
     ]
    }
   ],
   "source": [
    "#print ((DeeDB.COURSE.where(lambda t: t.name== 'Files and Databases') & DeeDB.STUDENT.where(lambda t: t.did== 1)).project(['fname','lname']))\n",
    "\n",
    "# Assign your result to c5\n",
    "c5 = (DeeDB.STUDENT & (DeeDB.COURSE.where(lambda t: t.name== 'Files and Databases') \n",
    "                         & DeeDB.ENROLLED_IN.where(lambda t: t.cid== 3)).project(['sid'])).project(['fname','lname'])\n",
    "\n",
    "# checking\n",
    "check('Q5', c5, points=5)"
   ]
  },
  {
   "cell_type": "markdown",
   "metadata": {},
   "source": [
    "## Question 6\n",
    "Find the first and last names of all students in the ANTH department."
   ]
  },
  {
   "cell_type": "code",
   "execution_count": 71,
   "metadata": {
    "collapsed": false
   },
   "outputs": [
    {
     "name": "stdout",
     "output_type": "stream",
     "text": [
      "Q6 appears correct\n"
     ]
    }
   ],
   "source": [
    "# assign to c6\n",
    "c6 = (DeeDB.STUDENT & DeeDB.DEPARTMENT.where(lambda t: t.name== 'ANTH')).project(['fname','lname'])\n",
    "\n",
    "# checking\n",
    "check('Q6', c6, points=5)"
   ]
  },
  {
   "cell_type": "markdown",
   "metadata": {},
   "source": [
    "## Question 7\n",
    "List the first and last names of all students enrolled in no courses."
   ]
  },
  {
   "cell_type": "code",
   "execution_count": 77,
   "metadata": {
    "collapsed": false
   },
   "outputs": [
    {
     "name": "stdout",
     "output_type": "stream",
     "text": [
      "Q7 appears correct\n"
     ]
    }
   ],
   "source": [
    "# assign to c7\n",
    "c7 = (SEMIMINUS(DeeDB.STUDENT.project(['fname','lname']),\n",
    "                 (DeeDB.STUDENT & (DeeDB.ENROLLED_IN).project(['sid'])).project(['fname','lname'])))\n",
    "\n",
    "# checking\n",
    "check('Q7', c7, points=5)"
   ]
  },
  {
   "cell_type": "markdown",
   "metadata": {},
   "source": [
    "### Questions 8-11\n",
    "\n",
    "Now use the sqlite3 database `courseEnrollment.db`, which has the same schema as above to write SQL queries for the following. I will open it for you below. __You must execute this next cell before the others!__"
   ]
  },
  {
   "cell_type": "code",
   "execution_count": 123,
   "metadata": {
    "collapsed": false
   },
   "outputs": [
    {
     "name": "stdout",
     "output_type": "stream",
     "text": [
      "('MARY', 'Smith')\n",
      "('JAMES', 'Williams')\n"
     ]
    }
   ],
   "source": [
    "econn = sqlite3.connect('CourseEnrollment.db')\n",
    "ecursor = econn.cursor()\n",
    "\n",
    "#ecursor.execute(\"\"\"select * from sqlite_master \"\"\")\n",
    "#for row in ecursor:\n",
    " #   print(row)\n",
    "    \n",
    "ecursor.execute(\"\"\"select fname,lname from STUDENT S,ENROLLED_IN E, COURSE C\n",
    "                      where (C.name = 'Data Structures' or C.name='Anthropology of the Body and the Subject') \n",
    "                      and C.cid=E.cid and E.sid=S.sid group by S.sid having count(S.sid)=2\"\"\")\n",
    "for row in ecursor:\n",
    "    print(row)\n",
    "# use ecursor to refer to this database below."
   ]
  },
  {
   "cell_type": "markdown",
   "metadata": {},
   "source": [
    "## Question 8\n",
    "Find the names of all 4 credit hour courses."
   ]
  },
  {
   "cell_type": "code",
   "execution_count": 94,
   "metadata": {
    "collapsed": false
   },
   "outputs": [
    {
     "name": "stdout",
     "output_type": "stream",
     "text": [
      "Q8 appears correct\n"
     ]
    }
   ],
   "source": [
    "# your code here\n",
    "c8 = ecursor.execute(\"\"\"select name from COURSE where creditHours=4\"\"\").fetchall() \n",
    "\n",
    "check('Q8', c8, points=10, sort=True)"
   ]
  },
  {
   "cell_type": "markdown",
   "metadata": {},
   "source": [
    "## Question 9\n",
    "Find the first and last names of all students enrolled in COMP courses."
   ]
  },
  {
   "cell_type": "code",
   "execution_count": 109,
   "metadata": {
    "collapsed": false
   },
   "outputs": [
    {
     "name": "stdout",
     "output_type": "stream",
     "text": [
      "Q9 appears correct\n"
     ]
    }
   ],
   "source": [
    "# your code here\n",
    "c9 = ecursor.execute(\"\"\"select distinct fname,lname from STUDENT S,ENROLLED_IN E, DEPARTMENT D ,COURSE C\n",
    "                      where D.name ='COMP' and D.did=C.did and C.cid=E.cid and E.sid=S.sid \"\"\").fetchall() \n",
    "\n",
    "check('Q9', c9, points=10, sort=True)"
   ]
  },
  {
   "cell_type": "markdown",
   "metadata": {},
   "source": [
    "## Question 10\n",
    "Find the first and last names of all students enrolled in courses of at least 500 level."
   ]
  },
  {
   "cell_type": "code",
   "execution_count": 110,
   "metadata": {
    "collapsed": false
   },
   "outputs": [
    {
     "name": "stdout",
     "output_type": "stream",
     "text": [
      "Q10 appears correct\n"
     ]
    }
   ],
   "source": [
    "# your code here\n",
    "c10 = ecursor.execute(\"\"\"select distinct fname,lname from STUDENT S,ENROLLED_IN E,COURSE C\n",
    "                      where C.num >=500 and C.cid=E.cid and E.sid=S.sid \"\"\").fetchall() \n",
    "\n",
    "\n",
    "check('Q10', c10, points=10, sort=True)"
   ]
  },
  {
   "cell_type": "markdown",
   "metadata": {},
   "source": [
    "## Question 11\n",
    "Find the first and last names of all students enrolled in 'Data Structures' and \"Anthropology of the Body and the Subject'."
   ]
  },
  {
   "cell_type": "code",
   "execution_count": 125,
   "metadata": {
    "collapsed": false
   },
   "outputs": [
    {
     "name": "stdout",
     "output_type": "stream",
     "text": [
      "Q11 appears correct\n"
     ]
    }
   ],
   "source": [
    "# your code here\n",
    "c11 = ecursor.execute(\"\"\"select distinct fname,lname from STUDENT S,ENROLLED_IN E, COURSE C\n",
    "                      where (C.name = 'Data Structures' or C.name='Anthropology of the Body and the Subject') \n",
    "                      and C.cid=E.cid and E.sid=S.sid group by S.sid having count(S.sid)>1\"\"\").fetchall() \n",
    "\n",
    "\n",
    "check('Q11', c11, points=15, sort=True)"
   ]
  }
 ],
 "metadata": {
  "kernelspec": {
   "display_name": "Python 3",
   "language": "python",
   "name": "python3"
  },
  "language_info": {
   "codemirror_mode": {
    "name": "ipython",
    "version": 3
   },
   "file_extension": ".py",
   "mimetype": "text/x-python",
   "name": "python",
   "nbconvert_exporter": "python",
   "pygments_lexer": "ipython3",
   "version": "3.6.0"
  }
 },
 "nbformat": 4,
 "nbformat_minor": 1
}
