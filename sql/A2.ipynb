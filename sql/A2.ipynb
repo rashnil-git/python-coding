{
 "cells": [
  {
   "cell_type": "markdown",
   "metadata": {},
   "source": [
    "# SQL - Part 2 (sqllite3)\n"
   ]
  },
  {
   "cell_type": "code",
   "execution_count": 2,
   "metadata": {
    "collapsed": true
   },
   "outputs": [],
   "source": [
    "# fill in your info here\n",
    "name = \"rashnil\"\n",
    "collaborators = [\"rashnil\"]"
   ]
  },
  {
   "cell_type": "markdown",
   "metadata": {},
   "source": [
    "Download and unzip [movies.db.zip](http://gb.cs.unc.edu/~gb/movies.db.zip) to produce a movies.db file in your working folder. This database is about 836 megabytes so some of the queries may take a while, __start early__.  This database has the following schema:\n",
    "```\n",
    "Customers (\n",
    "    cardNo INTEGER PRIMARY KEY,\n",
    "    first TEXT,\n",
    "    last TEXT,\n",
    "    sex CHAR,\n",
    "    dob DATE\n",
    ")\n",
    "\n",
    "Movies (\n",
    "    movieId INTEGER PRIMARY KEY,\n",
    "    title TEXT,\n",
    "    year INTEGER\n",
    ")\n",
    "\n",
    "Rentals (\n",
    "    cardNo INTEGER,\n",
    "    movieId INTEGER,\n",
    "    date DATE,\n",
    "    rating INTEGER,\n",
    "    PRIMARY KEY(cardNo, movieID, date),\n",
    "    FOREIGN KEY (cardNo) REFERENCES Customers,\n",
    "    FOREIGN KEY (movieId) REFERENCES Movies\n",
    ")\n",
    "```\n",
    "\n",
    "Write code in the cells below to answer each question."
   ]
  },
  {
   "cell_type": "code",
   "execution_count": 5,
   "metadata": {
    "collapsed": false
   },
   "outputs": [],
   "source": [
    "# setup\n",
    "import sqlite3\n",
    "conn = sqlite3.connect('movies.db')\n",
    "cursor = conn.cursor()\n",
    "\n",
    "import comp521\n",
    "check, report = comp521.start('A2')"
   ]
  },
  {
   "cell_type": "markdown",
   "metadata": {},
   "source": [
    "## 1. Find the following using SQL queries"
   ]
  },
  {
   "cell_type": "markdown",
   "metadata": {},
   "source": [
    "__1a. How many male customers are there?__"
   ]
  },
  {
   "cell_type": "code",
   "execution_count": 12,
   "metadata": {
    "collapsed": false
   },
   "outputs": [
    {
     "name": "stdout",
     "output_type": "stream",
     "text": [
      "1a appears correct\n"
     ]
    }
   ],
   "source": [
    "# write your query as a single string here\n",
    "a1a = \"select distinct(count(cardNo)) from Customers where sex='M'\"\n",
    "\n",
    "# code to execute your query, leave this alone\n",
    "q1a = cursor.execute(a1a).fetchone()[0]\n",
    "check('1a', q1a, points=10)"
   ]
  },
  {
   "cell_type": "markdown",
   "metadata": {},
   "source": [
    "__1b. How many movies were released in either 2004 or 2006?__"
   ]
  },
  {
   "cell_type": "code",
   "execution_count": 13,
   "metadata": {
    "collapsed": false
   },
   "outputs": [
    {
     "name": "stdout",
     "output_type": "stream",
     "text": [
      "1b appears correct\n"
     ]
    }
   ],
   "source": [
    "a1b = \"select count(movieID) from Movies where year =2004 or year=2006\"\n",
    "\n",
    "# test code\n",
    "q1b = cursor.execute(a1b).fetchone()[0]\n",
    "check('1b', q1b, points=10)"
   ]
  },
  {
   "cell_type": "markdown",
   "metadata": {},
   "source": [
    "__1c. What are the first and last names of the oldest customers in alphabetical order by last and first name?__"
   ]
  },
  {
   "cell_type": "code",
   "execution_count": 16,
   "metadata": {
    "collapsed": false
   },
   "outputs": [
    {
     "name": "stdout",
     "output_type": "stream",
     "text": [
      "1c appears correct\n"
     ]
    }
   ],
   "source": [
    "a1c = \"select first,last from Customers where dob = (select min(dob) from Customers) order by last,first\"\n",
    "\n",
    "# test\n",
    "q1c = cursor.execute(a1c).fetchall()\n",
    "check('1c', q1c, points=10)"
   ]
  },
  {
   "cell_type": "markdown",
   "metadata": {},
   "source": [
    "__1d. How many customers were born before January 1st, 1950 (not inclusive)?__"
   ]
  },
  {
   "cell_type": "code",
   "execution_count": 15,
   "metadata": {
    "collapsed": false
   },
   "outputs": [
    {
     "name": "stdout",
     "output_type": "stream",
     "text": [
      "1d appears correct\n"
     ]
    }
   ],
   "source": [
    "a1d = \"Select count(cardNo) from Customers where dob<'1950-01-01'\"\n",
    "\n",
    "# test\n",
    "q1d = cursor.execute(a1d).fetchone()[0]\n",
    "check('1d', q1d, points=10)"
   ]
  },
  {
   "cell_type": "markdown",
   "metadata": {},
   "source": [
    "__1e. What is the average rating for all movies rented between January 1st 2000, and December 31st 2000 (inclusive)?__"
   ]
  },
  {
   "cell_type": "code",
   "execution_count": 18,
   "metadata": {
    "collapsed": false
   },
   "outputs": [
    {
     "name": "stdout",
     "output_type": "stream",
     "text": [
      "1e appears correct\n"
     ]
    }
   ],
   "source": [
    "a1e = \"Select avg(rating) from Rentals where date between '2000-01-01' and '2000-12-31'\"\n",
    "\n",
    "# test\n",
    "q1e = cursor.execute(a1e).fetchone()[0]\n",
    "check('1e', q1e, points=10)"
   ]
  },
  {
   "cell_type": "markdown",
   "metadata": {},
   "source": [
    "## 2. Fill in the body of the functions below.\n",
    "\n",
    "__2a. Fill in code to make this function return a list with the titles of the films released in the given year, sorted alphabetically.__"
   ]
  },
  {
   "cell_type": "code",
   "execution_count": 61,
   "metadata": {
    "collapsed": false
   },
   "outputs": [
    {
     "name": "stdout",
     "output_type": "stream",
     "text": [
      "2a appears correct\n"
     ]
    }
   ],
   "source": [
    "def f2a(year):\n",
    "    a2a = \"Select title from Movies where year=\"+str(year)+ \" order by title\"\n",
    "    q2m = cursor.execute(a2a).fetchall()\n",
    "    titles = list()\n",
    "    for row in q2m:\n",
    "        titles.append(row[0])\n",
    "    \n",
    "    return titles\n",
    "    \n",
    "q2a = f2a(1935)\n",
    "check('2a', q2a, points=10)"
   ]
  },
  {
   "cell_type": "markdown",
   "metadata": {},
   "source": [
    "__2b. Write a function that takes a string representing some part of a film title, and returns a list of tuples with the first and last names of customers who rented those films and rated them 3 or higher. Sort this list alphabetically by last name and first names.__\n"
   ]
  },
  {
   "cell_type": "code",
   "execution_count": 70,
   "metadata": {
    "collapsed": false
   },
   "outputs": [
    {
     "name": "stdout",
     "output_type": "stream",
     "text": [
      "2b appears correct\n"
     ]
    }
   ],
   "source": [
    "def f2b(title):\n",
    "    a2a = \"Select distinct first,last from Customers c, Rentals r, Movies m where c.cardNo=r.cardNo and r.movieID=m.movieID and r.rating>=3 and m.title like '%\"+str(title)+ \"%' order by last,first\"\n",
    "    q2m = cursor.execute(a2a).fetchall()\n",
    "    \n",
    "    return q2m\n",
    "   \n",
    "\n",
    "q2b = f2b('rash Di')\n",
    "check('2b', q2b, points=20)"
   ]
  },
  {
   "cell_type": "markdown",
   "metadata": {},
   "source": [
    "__2c. Write a function that takes year as input, and returns a list of the titles of the most rented films among the films released that year.__"
   ]
  },
  {
   "cell_type": "code",
   "execution_count": 98,
   "metadata": {
    "collapsed": false
   },
   "outputs": [
    {
     "name": "stdout",
     "output_type": "stream",
     "text": [
      "2c appears correct\n"
     ]
    }
   ],
   "source": [
    "def f2c(year):\n",
    "    a2a = \"Select m.title from Movies m, Rentals r where r.movieID=m.movieID and m.year=\"+str(year)+\" group by r.movieId order by count(1) desc limit 1\"\n",
    "    q2m = cursor.execute(a2a).fetchall()\n",
    "    titles = list()\n",
    "    for row in q2m:\n",
    "        titles.append(row[0])\n",
    "    \n",
    "    return titles\n",
    "    \n",
    "\n",
    "q2c = f2c(2001)\n",
    "check('2c', q2c, points=20)  "
   ]
  },
  {
   "cell_type": "markdown",
   "metadata": {},
   "source": [
    "# Done!\n",
    "\n"
   ]
  }
 ],
 "metadata": {
  "kernelspec": {
   "display_name": "Python 3",
   "language": "python",
   "name": "python3"
  },
  "language_info": {
   "codemirror_mode": {
    "name": "ipython",
    "version": 3
   },
   "file_extension": ".py",
   "mimetype": "text/x-python",
   "name": "python",
   "nbconvert_exporter": "python",
   "pygments_lexer": "ipython3",
   "version": "3.6.0"
  }
 },
 "nbformat": 4,
 "nbformat_minor": 1
}
